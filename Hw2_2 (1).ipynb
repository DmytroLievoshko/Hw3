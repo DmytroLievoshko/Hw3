{
  "nbformat": 4,
  "nbformat_minor": 0,
  "metadata": {
    "colab": {
      "provenance": []
    },
    "kernelspec": {
      "name": "python3",
      "display_name": "Python 3"
    },
    "language_info": {
      "name": "python"
    }
  },
  "cells": [
    {
      "cell_type": "markdown",
      "source": [
        "# Анализ файлов"
      ],
      "metadata": {
        "id": "wc5l6fmS3h8y"
      }
    },
    {
      "cell_type": "markdown",
      "source": [
        "Проведите анализ файла 2017_jun_final.csv. Файл содержит результаты опроса разработчиков в июне 2017 года."
      ],
      "metadata": {
        "id": "lkEErO1N3qPr"
      }
    },
    {
      "cell_type": "code",
      "source": [
        "import pandas as pd\n",
        "\n",
        "df = pd.read_csv(\"2017_jun_final.csv\")"
      ],
      "metadata": {
        "id": "-RrcZxOq4FZo"
      },
      "execution_count": 2,
      "outputs": []
    },
    {
      "cell_type": "code",
      "source": [
        "print(df.columns)"
      ],
      "metadata": {
        "colab": {
          "base_uri": "https://localhost:8080/"
        },
        "id": "AsXdc76eRk7W",
        "outputId": "05db3c3d-1af9-44a4-9da0-3e148147f23e"
      },
      "execution_count": 5,
      "outputs": [
        {
          "output_type": "stream",
          "name": "stdout",
          "text": [
            "Index(['N', 'Должность', 'Язык.программирования', 'Специализация',\n",
            "       'Общий.опыт.работы', 'Опыт.работы.на.текущем.месте', 'Зарплата.в.месяц',\n",
            "       'Изменение.зарплаты.за.12.месяцев', 'Город', 'Размер.компании',\n",
            "       'Тип.компании', 'Пол', 'Возраст', 'Образование', 'Университет',\n",
            "       'Еще.студент', 'Уровень.английского', 'Предметная.область',\n",
            "       'Дата.заполнения', 'User.Agent', 'exp', 'current_job_exp', 'salary',\n",
            "       'Валюта', 'cls'],\n",
            "      dtype='object')\n"
          ]
        }
      ]
    },
    {
      "cell_type": "markdown",
      "source": [
        "Прочитайте полученную таблицу используя метод head"
      ],
      "metadata": {
        "id": "tYB6YN51AFyY"
      }
    },
    {
      "cell_type": "code",
      "source": [
        "df.head()"
      ],
      "metadata": {
        "colab": {
          "base_uri": "https://localhost:8080/",
          "height": 664
        },
        "id": "Cpn17mm0AGX5",
        "outputId": "3418b7d2-33ff-440d-84ee-47d293f99c1c"
      },
      "execution_count": null,
      "outputs": [
        {
          "output_type": "execute_result",
          "data": {
            "text/plain": [
              "   N                 Должность Язык.программирования Специализация  \\\n",
              "0  1        Junior QA engineer                   NaN     Manual QA   \n",
              "1  2        Junior QA engineer                   NaN     Manual QA   \n",
              "2  3         Software Engineer               C#/.NET           NaN   \n",
              "3  4         Software Engineer            JavaScript           NaN   \n",
              "4  5  Senior Software Engineer            JavaScript           NaN   \n",
              "\n",
              "  Общий.опыт.работы Опыт.работы.на.текущем.месте  Зарплата.в.месяц  \\\n",
              "0               0.5                          0.5               400   \n",
              "1  меньше 3 месяцев             меньше 3 месяцев               430   \n",
              "2                 4                            1              2500   \n",
              "3                 5                            4              2000   \n",
              "4    10 и более лет                          0.5              4500   \n",
              "\n",
              "   Изменение.зарплаты.за.12.месяцев    Город     Размер.компании  ...  \\\n",
              "0                                 0  Харьков       до 10 человек  ...   \n",
              "1                               130  Харьков  свыше 1000 человек  ...   \n",
              "2                               800     Киев     до 1000 человек  ...   \n",
              "3                               400   Одесса      до 200 человек  ...   \n",
              "4                               500   Другой       до 10 человек  ...   \n",
              "\n",
              "  Еще.студент Уровень.английского                    Предметная.область  \\\n",
              "0        True       ниже среднего                         iOS,eCommerce   \n",
              "1        True       выше среднего                        Веб-разработка   \n",
              "2       False             средний  Веб-разработка,Корпоративные системы   \n",
              "3       False       ниже среднего   Desktop Applications,Веб-разработка   \n",
              "4       False             средний   Desktop Applications,Веб-разработка   \n",
              "\n",
              "       Дата.заполнения                                         User.Agent  \\\n",
              "0  12/06/2017 12:38:08  Mozilla/5.0 (Windows NT 10.0; Win64; x64) Appl...   \n",
              "1  12/06/2017 12:42:51  Mozilla/5.0 (iPad; CPU OS 10_2_1 like Mac OS X...   \n",
              "2  12/06/2017 13:02:47  Mozilla/5.0 (Windows NT 10.0; Win64; x64) Appl...   \n",
              "3  12/06/2017 13:03:01  Mozilla/5.0 (Windows NT 6.1; Win64; x64) Apple...   \n",
              "4  12/06/2017 13:03:47  Mozilla/5.0 (iPhone; CPU iPhone OS 10_3_2 like...   \n",
              "\n",
              "    exp current_job_exp salary Валюта  cls  \n",
              "0   0.5             0.5    400    NaN   QA  \n",
              "1   0.0             0.0    430    NaN   QA  \n",
              "2   4.0             1.0   2500    NaN  DEV  \n",
              "3   5.0             4.0   2000    NaN  DEV  \n",
              "4  10.0             0.5   4500    NaN  DEV  \n",
              "\n",
              "[5 rows x 25 columns]"
            ],
            "text/html": [
              "\n",
              "  <div id=\"df-e5879933-de25-4bf3-a171-8fc9e8f092ef\">\n",
              "    <div class=\"colab-df-container\">\n",
              "      <div>\n",
              "<style scoped>\n",
              "    .dataframe tbody tr th:only-of-type {\n",
              "        vertical-align: middle;\n",
              "    }\n",
              "\n",
              "    .dataframe tbody tr th {\n",
              "        vertical-align: top;\n",
              "    }\n",
              "\n",
              "    .dataframe thead th {\n",
              "        text-align: right;\n",
              "    }\n",
              "</style>\n",
              "<table border=\"1\" class=\"dataframe\">\n",
              "  <thead>\n",
              "    <tr style=\"text-align: right;\">\n",
              "      <th></th>\n",
              "      <th>N</th>\n",
              "      <th>Должность</th>\n",
              "      <th>Язык.программирования</th>\n",
              "      <th>Специализация</th>\n",
              "      <th>Общий.опыт.работы</th>\n",
              "      <th>Опыт.работы.на.текущем.месте</th>\n",
              "      <th>Зарплата.в.месяц</th>\n",
              "      <th>Изменение.зарплаты.за.12.месяцев</th>\n",
              "      <th>Город</th>\n",
              "      <th>Размер.компании</th>\n",
              "      <th>...</th>\n",
              "      <th>Еще.студент</th>\n",
              "      <th>Уровень.английского</th>\n",
              "      <th>Предметная.область</th>\n",
              "      <th>Дата.заполнения</th>\n",
              "      <th>User.Agent</th>\n",
              "      <th>exp</th>\n",
              "      <th>current_job_exp</th>\n",
              "      <th>salary</th>\n",
              "      <th>Валюта</th>\n",
              "      <th>cls</th>\n",
              "    </tr>\n",
              "  </thead>\n",
              "  <tbody>\n",
              "    <tr>\n",
              "      <th>0</th>\n",
              "      <td>1</td>\n",
              "      <td>Junior QA engineer</td>\n",
              "      <td>NaN</td>\n",
              "      <td>Manual QA</td>\n",
              "      <td>0.5</td>\n",
              "      <td>0.5</td>\n",
              "      <td>400</td>\n",
              "      <td>0</td>\n",
              "      <td>Харьков</td>\n",
              "      <td>до 10 человек</td>\n",
              "      <td>...</td>\n",
              "      <td>True</td>\n",
              "      <td>ниже среднего</td>\n",
              "      <td>iOS,eCommerce</td>\n",
              "      <td>12/06/2017 12:38:08</td>\n",
              "      <td>Mozilla/5.0 (Windows NT 10.0; Win64; x64) Appl...</td>\n",
              "      <td>0.5</td>\n",
              "      <td>0.5</td>\n",
              "      <td>400</td>\n",
              "      <td>NaN</td>\n",
              "      <td>QA</td>\n",
              "    </tr>\n",
              "    <tr>\n",
              "      <th>1</th>\n",
              "      <td>2</td>\n",
              "      <td>Junior QA engineer</td>\n",
              "      <td>NaN</td>\n",
              "      <td>Manual QA</td>\n",
              "      <td>меньше 3 месяцев</td>\n",
              "      <td>меньше 3 месяцев</td>\n",
              "      <td>430</td>\n",
              "      <td>130</td>\n",
              "      <td>Харьков</td>\n",
              "      <td>свыше 1000 человек</td>\n",
              "      <td>...</td>\n",
              "      <td>True</td>\n",
              "      <td>выше среднего</td>\n",
              "      <td>Веб-разработка</td>\n",
              "      <td>12/06/2017 12:42:51</td>\n",
              "      <td>Mozilla/5.0 (iPad; CPU OS 10_2_1 like Mac OS X...</td>\n",
              "      <td>0.0</td>\n",
              "      <td>0.0</td>\n",
              "      <td>430</td>\n",
              "      <td>NaN</td>\n",
              "      <td>QA</td>\n",
              "    </tr>\n",
              "    <tr>\n",
              "      <th>2</th>\n",
              "      <td>3</td>\n",
              "      <td>Software Engineer</td>\n",
              "      <td>C#/.NET</td>\n",
              "      <td>NaN</td>\n",
              "      <td>4</td>\n",
              "      <td>1</td>\n",
              "      <td>2500</td>\n",
              "      <td>800</td>\n",
              "      <td>Киев</td>\n",
              "      <td>до 1000 человек</td>\n",
              "      <td>...</td>\n",
              "      <td>False</td>\n",
              "      <td>средний</td>\n",
              "      <td>Веб-разработка,Корпоративные системы</td>\n",
              "      <td>12/06/2017 13:02:47</td>\n",
              "      <td>Mozilla/5.0 (Windows NT 10.0; Win64; x64) Appl...</td>\n",
              "      <td>4.0</td>\n",
              "      <td>1.0</td>\n",
              "      <td>2500</td>\n",
              "      <td>NaN</td>\n",
              "      <td>DEV</td>\n",
              "    </tr>\n",
              "    <tr>\n",
              "      <th>3</th>\n",
              "      <td>4</td>\n",
              "      <td>Software Engineer</td>\n",
              "      <td>JavaScript</td>\n",
              "      <td>NaN</td>\n",
              "      <td>5</td>\n",
              "      <td>4</td>\n",
              "      <td>2000</td>\n",
              "      <td>400</td>\n",
              "      <td>Одесса</td>\n",
              "      <td>до 200 человек</td>\n",
              "      <td>...</td>\n",
              "      <td>False</td>\n",
              "      <td>ниже среднего</td>\n",
              "      <td>Desktop Applications,Веб-разработка</td>\n",
              "      <td>12/06/2017 13:03:01</td>\n",
              "      <td>Mozilla/5.0 (Windows NT 6.1; Win64; x64) Apple...</td>\n",
              "      <td>5.0</td>\n",
              "      <td>4.0</td>\n",
              "      <td>2000</td>\n",
              "      <td>NaN</td>\n",
              "      <td>DEV</td>\n",
              "    </tr>\n",
              "    <tr>\n",
              "      <th>4</th>\n",
              "      <td>5</td>\n",
              "      <td>Senior Software Engineer</td>\n",
              "      <td>JavaScript</td>\n",
              "      <td>NaN</td>\n",
              "      <td>10 и более лет</td>\n",
              "      <td>0.5</td>\n",
              "      <td>4500</td>\n",
              "      <td>500</td>\n",
              "      <td>Другой</td>\n",
              "      <td>до 10 человек</td>\n",
              "      <td>...</td>\n",
              "      <td>False</td>\n",
              "      <td>средний</td>\n",
              "      <td>Desktop Applications,Веб-разработка</td>\n",
              "      <td>12/06/2017 13:03:47</td>\n",
              "      <td>Mozilla/5.0 (iPhone; CPU iPhone OS 10_3_2 like...</td>\n",
              "      <td>10.0</td>\n",
              "      <td>0.5</td>\n",
              "      <td>4500</td>\n",
              "      <td>NaN</td>\n",
              "      <td>DEV</td>\n",
              "    </tr>\n",
              "  </tbody>\n",
              "</table>\n",
              "<p>5 rows × 25 columns</p>\n",
              "</div>\n",
              "      <button class=\"colab-df-convert\" onclick=\"convertToInteractive('df-e5879933-de25-4bf3-a171-8fc9e8f092ef')\"\n",
              "              title=\"Convert this dataframe to an interactive table.\"\n",
              "              style=\"display:none;\">\n",
              "        \n",
              "  <svg xmlns=\"http://www.w3.org/2000/svg\" height=\"24px\"viewBox=\"0 0 24 24\"\n",
              "       width=\"24px\">\n",
              "    <path d=\"M0 0h24v24H0V0z\" fill=\"none\"/>\n",
              "    <path d=\"M18.56 5.44l.94 2.06.94-2.06 2.06-.94-2.06-.94-.94-2.06-.94 2.06-2.06.94zm-11 1L8.5 8.5l.94-2.06 2.06-.94-2.06-.94L8.5 2.5l-.94 2.06-2.06.94zm10 10l.94 2.06.94-2.06 2.06-.94-2.06-.94-.94-2.06-.94 2.06-2.06.94z\"/><path d=\"M17.41 7.96l-1.37-1.37c-.4-.4-.92-.59-1.43-.59-.52 0-1.04.2-1.43.59L10.3 9.45l-7.72 7.72c-.78.78-.78 2.05 0 2.83L4 21.41c.39.39.9.59 1.41.59.51 0 1.02-.2 1.41-.59l7.78-7.78 2.81-2.81c.8-.78.8-2.07 0-2.86zM5.41 20L4 18.59l7.72-7.72 1.47 1.35L5.41 20z\"/>\n",
              "  </svg>\n",
              "      </button>\n",
              "      \n",
              "  <style>\n",
              "    .colab-df-container {\n",
              "      display:flex;\n",
              "      flex-wrap:wrap;\n",
              "      gap: 12px;\n",
              "    }\n",
              "\n",
              "    .colab-df-convert {\n",
              "      background-color: #E8F0FE;\n",
              "      border: none;\n",
              "      border-radius: 50%;\n",
              "      cursor: pointer;\n",
              "      display: none;\n",
              "      fill: #1967D2;\n",
              "      height: 32px;\n",
              "      padding: 0 0 0 0;\n",
              "      width: 32px;\n",
              "    }\n",
              "\n",
              "    .colab-df-convert:hover {\n",
              "      background-color: #E2EBFA;\n",
              "      box-shadow: 0px 1px 2px rgba(60, 64, 67, 0.3), 0px 1px 3px 1px rgba(60, 64, 67, 0.15);\n",
              "      fill: #174EA6;\n",
              "    }\n",
              "\n",
              "    [theme=dark] .colab-df-convert {\n",
              "      background-color: #3B4455;\n",
              "      fill: #D2E3FC;\n",
              "    }\n",
              "\n",
              "    [theme=dark] .colab-df-convert:hover {\n",
              "      background-color: #434B5C;\n",
              "      box-shadow: 0px 1px 3px 1px rgba(0, 0, 0, 0.15);\n",
              "      filter: drop-shadow(0px 1px 2px rgba(0, 0, 0, 0.3));\n",
              "      fill: #FFFFFF;\n",
              "    }\n",
              "  </style>\n",
              "\n",
              "      <script>\n",
              "        const buttonEl =\n",
              "          document.querySelector('#df-e5879933-de25-4bf3-a171-8fc9e8f092ef button.colab-df-convert');\n",
              "        buttonEl.style.display =\n",
              "          google.colab.kernel.accessAllowed ? 'block' : 'none';\n",
              "\n",
              "        async function convertToInteractive(key) {\n",
              "          const element = document.querySelector('#df-e5879933-de25-4bf3-a171-8fc9e8f092ef');\n",
              "          const dataTable =\n",
              "            await google.colab.kernel.invokeFunction('convertToInteractive',\n",
              "                                                     [key], {});\n",
              "          if (!dataTable) return;\n",
              "\n",
              "          const docLinkHtml = 'Like what you see? Visit the ' +\n",
              "            '<a target=\"_blank\" href=https://colab.research.google.com/notebooks/data_table.ipynb>data table notebook</a>'\n",
              "            + ' to learn more about interactive tables.';\n",
              "          element.innerHTML = '';\n",
              "          dataTable['output_type'] = 'display_data';\n",
              "          await google.colab.output.renderOutput(dataTable, element);\n",
              "          const docLink = document.createElement('div');\n",
              "          docLink.innerHTML = docLinkHtml;\n",
              "          element.appendChild(docLink);\n",
              "        }\n",
              "      </script>\n",
              "    </div>\n",
              "  </div>\n",
              "  "
            ]
          },
          "metadata": {},
          "execution_count": 3
        }
      ]
    },
    {
      "cell_type": "markdown",
      "source": [
        "Определите размер таблицы с помощью метода shape"
      ],
      "metadata": {
        "id": "aLS4jlMvA3cS"
      }
    },
    {
      "cell_type": "code",
      "source": [
        "print(df.shape)"
      ],
      "metadata": {
        "colab": {
          "base_uri": "https://localhost:8080/"
        },
        "id": "6MI9qb0VA4YH",
        "outputId": "3a0ba3b9-c430-4fa3-fd6d-dfaa061b36f3"
      },
      "execution_count": null,
      "outputs": [
        {
          "output_type": "stream",
          "name": "stdout",
          "text": [
            "(8704, 25)\n"
          ]
        }
      ]
    },
    {
      "cell_type": "markdown",
      "source": [
        "Определите типы всех столбцов с помощью dataframe.dtypes"
      ],
      "metadata": {
        "id": "We7v6-WEBH8a"
      }
    },
    {
      "cell_type": "code",
      "source": [
        "print(df.dtypes)"
      ],
      "metadata": {
        "colab": {
          "base_uri": "https://localhost:8080/"
        },
        "id": "8GSa3g6WBIjy",
        "outputId": "485ab34f-5a21-4fa4-c825-a0830ccb5c6a"
      },
      "execution_count": null,
      "outputs": [
        {
          "output_type": "stream",
          "name": "stdout",
          "text": [
            "N                                     int64\n",
            "Должность                            object\n",
            "Язык.программирования                object\n",
            "Специализация                        object\n",
            "Общий.опыт.работы                    object\n",
            "Опыт.работы.на.текущем.месте         object\n",
            "Зарплата.в.месяц                      int64\n",
            "Изменение.зарплаты.за.12.месяцев      int64\n",
            "Город                                object\n",
            "Размер.компании                      object\n",
            "Тип.компании                         object\n",
            "Пол                                  object\n",
            "Возраст                               int64\n",
            "Образование                          object\n",
            "Университет                          object\n",
            "Еще.студент                            bool\n",
            "Уровень.английского                  object\n",
            "Предметная.область                   object\n",
            "Дата.заполнения                      object\n",
            "User.Agent                           object\n",
            "exp                                 float64\n",
            "current_job_exp                     float64\n",
            "salary                                int64\n",
            "Валюта                               object\n",
            "cls                                  object\n",
            "dtype: object\n"
          ]
        }
      ]
    },
    {
      "cell_type": "markdown",
      "source": [
        "Посчитайте, какая доля пропусков содержится в каждой колонке (используйте методы isnull и sum)"
      ],
      "metadata": {
        "id": "O-lgzr0lBpj0"
      }
    },
    {
      "cell_type": "code",
      "source": [
        "null_counts = df.isnull().sum()\n",
        "total_counts = len(df)\n",
        "null_fractions = null_counts / total_counts\n",
        "\n",
        "print(null_fractions)"
      ],
      "metadata": {
        "colab": {
          "base_uri": "https://localhost:8080/"
        },
        "id": "KqVQy9cQB0o4",
        "outputId": "3da65543-3861-4581-c165-9f572608846a"
      },
      "execution_count": null,
      "outputs": [
        {
          "output_type": "stream",
          "name": "stdout",
          "text": [
            "N                                   0.000000\n",
            "Должность                           0.000000\n",
            "Язык.программирования               0.442325\n",
            "Специализация                       0.829389\n",
            "Общий.опыт.работы                   0.000000\n",
            "Опыт.работы.на.текущем.месте        0.000000\n",
            "Зарплата.в.месяц                    0.000000\n",
            "Изменение.зарплаты.за.12.месяцев    0.000000\n",
            "Город                               0.000000\n",
            "Размер.компании                     0.000000\n",
            "Тип.компании                        0.000000\n",
            "Пол                                 0.000000\n",
            "Возраст                             0.000000\n",
            "Образование                         0.000000\n",
            "Университет                         0.041131\n",
            "Еще.студент                         0.000000\n",
            "Уровень.английского                 0.000000\n",
            "Предметная.область                  0.025620\n",
            "Дата.заполнения                     0.000000\n",
            "User.Agent                          0.000000\n",
            "exp                                 0.000000\n",
            "current_job_exp                     0.000000\n",
            "salary                              0.000000\n",
            "Валюта                              0.998851\n",
            "cls                                 0.180836\n",
            "dtype: float64\n"
          ]
        }
      ]
    },
    {
      "cell_type": "markdown",
      "source": [
        "Удалите все столбцы с пропусками, кроме столбца \"Язык.программирования\""
      ],
      "metadata": {
        "id": "pOHYqeQnCFqx"
      }
    },
    {
      "cell_type": "code",
      "source": [
        "\n",
        "df = df[['Язык.программирования'] + [col for col in df.columns if col != 'Язык.программирования' and df[col].notna().all()]]\n",
        "\n",
        "print(df.shape)\n"
      ],
      "metadata": {
        "colab": {
          "base_uri": "https://localhost:8080/"
        },
        "id": "9HEpZ506EirY",
        "outputId": "1b63ed63-7310-4b21-a7e0-dcda50b2c6af"
      },
      "execution_count": null,
      "outputs": [
        {
          "output_type": "stream",
          "name": "stdout",
          "text": [
            "(8704, 20)\n"
          ]
        }
      ]
    },
    {
      "cell_type": "markdown",
      "source": [
        "Опять посчитайте, какая доля пропусков содержится в каждой колонке и убедитесь, что остался только столбец \"Язык.программирования\""
      ],
      "metadata": {
        "id": "9q4Th7cXUMpW"
      }
    },
    {
      "cell_type": "code",
      "source": [
        "null_counts = df.isnull().sum()\n",
        "total_counts = len(df)\n",
        "null_fractions = null_counts / total_counts\n",
        "\n",
        "print(null_fractions)"
      ],
      "metadata": {
        "colab": {
          "base_uri": "https://localhost:8080/"
        },
        "id": "j69NL9awUSJp",
        "outputId": "965f5aa7-f826-4b88-b27d-640451cb3ae8"
      },
      "execution_count": null,
      "outputs": [
        {
          "output_type": "stream",
          "name": "stdout",
          "text": [
            "Язык.программирования               0.442325\n",
            "N                                   0.000000\n",
            "Должность                           0.000000\n",
            "Общий.опыт.работы                   0.000000\n",
            "Опыт.работы.на.текущем.месте        0.000000\n",
            "Зарплата.в.месяц                    0.000000\n",
            "Изменение.зарплаты.за.12.месяцев    0.000000\n",
            "Город                               0.000000\n",
            "Размер.компании                     0.000000\n",
            "Тип.компании                        0.000000\n",
            "Пол                                 0.000000\n",
            "Возраст                             0.000000\n",
            "Образование                         0.000000\n",
            "Еще.студент                         0.000000\n",
            "Уровень.английского                 0.000000\n",
            "Дата.заполнения                     0.000000\n",
            "User.Agent                          0.000000\n",
            "exp                                 0.000000\n",
            "current_job_exp                     0.000000\n",
            "salary                              0.000000\n",
            "dtype: float64\n"
          ]
        }
      ]
    },
    {
      "cell_type": "markdown",
      "source": [
        "Удалите все строки в исходной таблице с помощью метода dropna"
      ],
      "metadata": {
        "id": "DHAmbMDXUli6"
      }
    },
    {
      "cell_type": "code",
      "source": [
        "df = df.dropna(how='any')"
      ],
      "metadata": {
        "id": "hmJUajzcUmXr"
      },
      "execution_count": null,
      "outputs": []
    },
    {
      "cell_type": "markdown",
      "source": [
        "Определите новый размер таблицы с помощью метода shape"
      ],
      "metadata": {
        "id": "yuTGn3FrUu5v"
      }
    },
    {
      "cell_type": "code",
      "source": [
        "print(df.shape)"
      ],
      "metadata": {
        "colab": {
          "base_uri": "https://localhost:8080/"
        },
        "id": "3QwinNThUyqX",
        "outputId": "adf20263-2e07-41bb-f638-482010c9aca0"
      },
      "execution_count": null,
      "outputs": [
        {
          "output_type": "stream",
          "name": "stdout",
          "text": [
            "(4854, 20)\n"
          ]
        }
      ]
    },
    {
      "cell_type": "markdown",
      "source": [
        "Создайте новую таблицу python_data в которой будут только строки со специалистами указавшими язык программирования Python"
      ],
      "metadata": {
        "id": "E11lpTBFVvpv"
      }
    },
    {
      "cell_type": "code",
      "source": [
        "python_data  = df[(df['Язык.программирования'] == \"Python\")]"
      ],
      "metadata": {
        "id": "BwzdPzP8VwUw"
      },
      "execution_count": null,
      "outputs": []
    },
    {
      "cell_type": "markdown",
      "source": [
        "Определите размер таблицы python_data с помощью метода shape"
      ],
      "metadata": {
        "id": "NxJMekpHXOPe"
      }
    },
    {
      "cell_type": "code",
      "source": [
        "print(python_data.shape)"
      ],
      "metadata": {
        "colab": {
          "base_uri": "https://localhost:8080/"
        },
        "id": "P-cFzyGeawkn",
        "outputId": "7bcf975c-9acf-43b6-938e-7c8090b5e759"
      },
      "execution_count": null,
      "outputs": [
        {
          "output_type": "stream",
          "name": "stdout",
          "text": [
            "(207, 20)\n"
          ]
        }
      ]
    },
    {
      "cell_type": "markdown",
      "source": [
        "Используя метод groupby выполните группировку по столбцу \"Должность\""
      ],
      "metadata": {
        "id": "03PcWScVa_LP"
      }
    },
    {
      "cell_type": "code",
      "source": [
        "python_data_group = python_data.groupby('Должность')"
      ],
      "metadata": {
        "id": "-EndEvGBbHpZ"
      },
      "execution_count": null,
      "outputs": []
    },
    {
      "cell_type": "markdown",
      "source": [
        "Создайте новый DataFrame, где для сгруппированных данных по столбцу \"Должность\", выполните агрегацию данных с помощью метода agg и найдите минимальное и максимальное значение в столбце \"Зарплата.в.месяц\""
      ],
      "metadata": {
        "id": "R1bwq8CEc8C3"
      }
    },
    {
      "cell_type": "code",
      "source": [
        "python_data_group = python_data_group['Зарплата.в.месяц'].agg(['min', 'max'])\n",
        "\n",
        "print(python_data_group)"
      ],
      "metadata": {
        "colab": {
          "base_uri": "https://localhost:8080/"
        },
        "id": "QYCxM3y2c9ie",
        "outputId": "09dcd61b-f7c1-4aab-f7b2-95d91909e886"
      },
      "execution_count": null,
      "outputs": [
        {
          "output_type": "stream",
          "name": "stdout",
          "text": [
            "                           min   max\n",
            "Должность                           \n",
            "Junior Software Engineer   100  1250\n",
            "Senior Software Engineer  1300  9200\n",
            "Software Engineer          500  5400\n",
            "System Architect          3000  5000\n",
            "Technical Lead            1425  6200\n"
          ]
        }
      ]
    },
    {
      "cell_type": "markdown",
      "source": [
        "Создайте функцию fill_avg_salary которая будет возвращать среднее значение заработной платы в месяц. Используйте ее для метода apply и создайте новый столбик \"avg\""
      ],
      "metadata": {
        "id": "Ix5-0qofeK_i"
      }
    },
    {
      "cell_type": "code",
      "source": [
        "def fill_avg_salary(df):\n",
        "    avg = df['Зарплата.в.месяц'].mean()\n",
        "    return pd.Series({'avg': avg})\n",
        "\n",
        "df_avg = python_data.groupby('Должность').apply(fill_avg_salary).reset_index()\n",
        "\n",
        "print(df_avg)"
      ],
      "metadata": {
        "colab": {
          "base_uri": "https://localhost:8080/"
        },
        "id": "y5vYWJWLeMFf",
        "outputId": "389f7356-1105-4d47-fb3b-ff208abe5b30"
      },
      "execution_count": null,
      "outputs": [
        {
          "output_type": "stream",
          "name": "stdout",
          "text": [
            "                  Должность          avg\n",
            "0  Junior Software Engineer   560.841270\n",
            "1  Senior Software Engineer  3387.096774\n",
            "2         Software Engineer  1799.070000\n",
            "3          System Architect  4000.000000\n",
            "4            Technical Lead  3165.909091\n"
          ]
        }
      ]
    },
    {
      "cell_type": "markdown",
      "source": [
        "Создайте описательную статистику с помощью метода describe для нового столбца."
      ],
      "metadata": {
        "id": "JHyLoMo8h_8w"
      }
    },
    {
      "cell_type": "code",
      "source": [
        "print(df_avg['avg'].describe())"
      ],
      "metadata": {
        "colab": {
          "base_uri": "https://localhost:8080/"
        },
        "id": "e_APwHruiAls",
        "outputId": "57e1b6e7-2471-44fd-b580-f1252c4b6bb9"
      },
      "execution_count": null,
      "outputs": [
        {
          "output_type": "stream",
          "name": "stdout",
          "text": [
            "count       5.000000\n",
            "mean     2582.583427\n",
            "std      1387.255829\n",
            "min       560.841270\n",
            "25%      1799.070000\n",
            "50%      3165.909091\n",
            "75%      3387.096774\n",
            "max      4000.000000\n",
            "Name: avg, dtype: float64\n"
          ]
        }
      ]
    },
    {
      "cell_type": "markdown",
      "source": [
        "Сохраните полученную таблицу в CSV файл"
      ],
      "metadata": {
        "id": "2ifG1uSFiQku"
      }
    },
    {
      "cell_type": "code",
      "source": [
        "df_avg.to_csv('output.csv', index=False)"
      ],
      "metadata": {
        "id": "qsJC6QQqiRSq"
      },
      "execution_count": null,
      "outputs": []
    },
    {
      "cell_type": "markdown",
      "source": [
        "изменения зарплаты за 12 месяцев по возрасту"
      ],
      "metadata": {
        "id": "2HZHDz2zTGw-"
      }
    },
    {
      "cell_type": "code",
      "source": [
        "import matplotlib.pyplot as plt\n",
        "\n",
        "df_mean = df.groupby('Возраст')['Изменение.зарплаты.за.12.месяцев'].mean()\n",
        "\n",
        "plt.figure(figsize=(10, 6))\n",
        "plt.title('Изменение заработной платы по возрасту')\n",
        "plt.xlabel('Возраст')\n",
        "plt.ylabel('Изменение зарплаты')\n",
        "\n",
        "plt.bar(df_mean.index, df_mean.values, color='green', linewidth=2)\n",
        "\n",
        "plt.show()\n"
      ],
      "metadata": {
        "colab": {
          "base_uri": "https://localhost:8080/",
          "height": 404
        },
        "id": "LT0DNVd-THzX",
        "outputId": "1048749c-1505-4741-b660-eb777cd3aab2"
      },
      "execution_count": 9,
      "outputs": [
        {
          "output_type": "display_data",
          "data": {
            "text/plain": [
              "<Figure size 720x432 with 1 Axes>"
            ],
            "image/png": "[encoded data removed]"
          },
          "metadata": {
            "needs_background": "light"
          }
        }
      ]
    },
    {
      "cell_type": "markdown",
      "source": [
        "зарплаты в зависимости от опыта работы"
      ],
      "metadata": {
        "id": "F6xlQz58U6T0"
      }
    },
    {
      "cell_type": "code",
      "source": [
        "df_median = df.groupby('Общий.опыт.работы')['Зарплата.в.месяц'].median()\n",
        "\n",
        "plt.figure(figsize=(10, 6))\n",
        "plt.title('Зарплата по общему стажу работы')\n",
        "plt.xlabel('Опит работы')\n",
        "plt.xticks(rotation=90)\n",
        "plt.ylabel('Зарплата')\n",
        "\n",
        "plt.plot(df_median.index, df_median.values, color='red', linestyle='dashed', marker='o')\n",
        "\n",
        "plt.show()\n"
      ],
      "metadata": {
        "colab": {
          "base_uri": "https://localhost:8080/",
          "height": 492
        },
        "id": "zJ0aSsQYVBW1",
        "outputId": "665a373d-5694-48e5-91c2-31d9cac19c24"
      },
      "execution_count": 13,
      "outputs": [
        {
          "output_type": "display_data",
          "data": {
            "text/plain": [
              "<Figure size 720x432 with 1 Axes>"
            ],
            "image/png": "[encoded data removed]"
          },
          "metadata": {
            "needs_background": "light"
          }
        }
      ]
    },
    {
      "cell_type": "markdown",
      "source": [
        "изменения зарплаты за 12 месяцев по специализации"
      ],
      "metadata": {
        "id": "A2TlaQP_VqkE"
      }
    },
    {
      "cell_type": "code",
      "source": [
        "df_median = df.groupby('Специализация')['Изменение.зарплаты.за.12.месяцев'].median()\n",
        "\n",
        "plt.figure(figsize=(10, 6))\n",
        "plt.title('Изменение заработной платы по специализации')\n",
        "plt.xlabel('Специализация')\n",
        "plt.ylabel('Изменение зарплаты')\n",
        "\n",
        "plt.plot(df_median.index, df_median.values, color='purple', linestyle='dashdot', marker='x')\n",
        "\n",
        "plt.show()\n"
      ],
      "metadata": {
        "colab": {
          "base_uri": "https://localhost:8080/",
          "height": 404
        },
        "id": "-kCPin27Vt5P",
        "outputId": "ea02d57d-1b84-430b-9b73-6bdd4a3d7fa9"
      },
      "execution_count": 12,
      "outputs": [
        {
          "output_type": "display_data",
          "data": {
            "text/plain": [
              "<Figure size 720x432 with 1 Axes>"
            ],
            "image/png": "[encoded data removed]"
          },
          "metadata": {
            "needs_background": "light"
          }
        }
      ]
    }
  ]
}